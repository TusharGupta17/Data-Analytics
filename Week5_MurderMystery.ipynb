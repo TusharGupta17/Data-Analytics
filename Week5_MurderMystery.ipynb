{
  "nbformat": 4,
  "nbformat_minor": 0,
  "metadata": {
    "colab": {
      "provenance": []
    },
    "kernelspec": {
      "name": "python3",
      "display_name": "Python 3"
    },
    "language_info": {
      "name": "python"
    }
  },
  "cells": [
    {
      "cell_type": "code",
      "execution_count": 33,
      "metadata": {
        "id": "wfZIB_psfY4u"
      },
      "outputs": [],
      "source": [
        "import sqlite3\n",
        "import pandas as pd"
      ]
    },
    {
      "cell_type": "markdown",
      "source": [
        "**CONNECTION ESTABLISHED**"
      ],
      "metadata": {
        "id": "-XyNLRYjGMrF"
      }
    },
    {
      "cell_type": "code",
      "source": [
        "con=sqlite3.connect(\"/content/sql-murder-mystery.db\")"
      ],
      "metadata": {
        "id": "iojzT51IhIBF"
      },
      "execution_count": 34,
      "outputs": []
    },
    {
      "cell_type": "markdown",
      "source": [
        "**1. RETRIEVE CRIME SCENE REPORT**"
      ],
      "metadata": {
        "id": "LnP0pBcOHZet"
      }
    },
    {
      "cell_type": "code",
      "source": [
        "cursor=con.execute('''\n",
        "  SELECT * FROM crime_scene_report\n",
        "  WHERE type='murder' AND city='SQL City' AND  date= 20180115 ''')\n",
        "for row in cursor:\n",
        "  print(row)"
      ],
      "metadata": {
        "colab": {
          "base_uri": "https://localhost:8080/"
        },
        "id": "__wA4GDJtnTE",
        "outputId": "a7a452e3-832a-491c-b167-65b0853d2b72"
      },
      "execution_count": 35,
      "outputs": [
        {
          "output_type": "stream",
          "name": "stdout",
          "text": [
            "(20180115, 'murder', 'Security footage shows that there were 2 witnesses. The first witness lives at the last house on \"Northwestern Dr\". The second witness, named Annabel, lives somewhere on \"Franklin Ave\".', 'SQL City')\n"
          ]
        }
      ]
    },
    {
      "cell_type": "markdown",
      "source": [
        "**2. PERSONAL DETAILS OF WITNESS**"
      ],
      "metadata": {
        "id": "iEjHbcvTGiZG"
      }
    },
    {
      "cell_type": "code",
      "source": [
        "cursor=con.execute('''\n",
        "SELECT\n",
        "    interview.transcript,\n",
        "    person.name,\n",
        "    person.id\n",
        "    FROM interview\n",
        "    JOIN person\n",
        "    ON interview.person_id=person.id\n",
        "    WHERE person.address_street_name='Northwestern Dr'\n",
        "    ORDER BY address_number desc\n",
        "    LIMIT 1''')\n",
        "for row in cursor:\n",
        "  print(row)"
      ],
      "metadata": {
        "colab": {
          "base_uri": "https://localhost:8080/"
        },
        "id": "Q_U6-17-8Ur0",
        "outputId": "0a73569c-0490-4c08-f670-522338f373d0"
      },
      "execution_count": 36,
      "outputs": [
        {
          "output_type": "stream",
          "name": "stdout",
          "text": [
            "('I heard a gunshot and then saw a man run out. He had a \"Get Fit Now Gym\" bag. The membership number on the bag started with \"48Z\". Only gold members have those bags. The man got into a car with a plate that included \"H42W\".', 'Morty Schapiro', 14887)\n"
          ]
        }
      ]
    },
    {
      "cell_type": "code",
      "source": [
        "cursor=con.execute('''\n",
        "SELECT\n",
        "    interview.transcript,\n",
        "    person.name,\n",
        "    person.id\n",
        "    FROM interview\n",
        "    JOIN person\n",
        "    ON interview.person_id=person.id\n",
        "    WHERE\n",
        "    person.name LIKE '%Annabel%'\n",
        "    AND\n",
        "    person.address_street_name='Franklin Ave'\n",
        "    ''')\n",
        "for row in cursor:\n",
        "  print(row)"
      ],
      "metadata": {
        "colab": {
          "base_uri": "https://localhost:8080/"
        },
        "id": "tO2NNOLN90bn",
        "outputId": "5d573e58-0e8e-4663-a3fa-48b664cc0651"
      },
      "execution_count": 37,
      "outputs": [
        {
          "output_type": "stream",
          "name": "stdout",
          "text": [
            "('I saw the murder happen, and I recognized the killer from my gym when I was working out last week on January the 9th.', 'Annabel Miller', 16371)\n"
          ]
        }
      ]
    },
    {
      "cell_type": "code",
      "source": [
        "# \"Get Fit Now Gym\" bag.\n",
        "# membership number on the bag started with \"48Z\".\n",
        "# Only gold members have those bags.\n",
        "# car with a plate that included \"H42W\".\n",
        "# Suspect in gym on January the 9th."
      ],
      "metadata": {
        "id": "Mbq6ueZT-sxp"
      },
      "execution_count": 38,
      "outputs": []
    },
    {
      "cell_type": "markdown",
      "source": [
        "**3. TO CHECK THE INFORMATION BASED ON WITNESS INTERVIEW**"
      ],
      "metadata": {
        "id": "Dgji3aMyG7yM"
      }
    },
    {
      "cell_type": "code",
      "source": [
        "cursor=con.execute('''\n",
        "SELECT *\n",
        "    FROM get_fit_now_member\n",
        "    JOIN get_fit_now_check_in\n",
        "    ON get_fit_now_member.id = get_fit_now_check_in.membership_id\n",
        "    WHERE\n",
        "        get_fit_now_member.membership_status = 'gold'\n",
        "        AND\n",
        "        get_fit_now_check_in.check_in_date = 20180109\n",
        "        AND\n",
        "        get_fit_now_check_in.membership_id LIKE '%48Z%'\n",
        "   ''' )\n",
        "\n",
        "for row in cursor:\n",
        "  print(row)"
      ],
      "metadata": {
        "colab": {
          "base_uri": "https://localhost:8080/"
        },
        "id": "1X4amDuF_Okl",
        "outputId": "8777d83f-33d6-4474-b173-a13015b54444"
      },
      "execution_count": 39,
      "outputs": [
        {
          "output_type": "stream",
          "name": "stdout",
          "text": [
            "('48Z7A', 28819, 'Joe Germuska', 20160305, 'gold', '48Z7A', 20180109, 1600, 1730)\n",
            "('48Z55', 67318, 'Jeremy Bowers', 20160101, 'gold', '48Z55', 20180109, 1530, 1700)\n"
          ]
        }
      ]
    },
    {
      "cell_type": "markdown",
      "source": [
        "**4. CHECK THE CAR DETAILS**"
      ],
      "metadata": {
        "id": "MNDldnlPH4Bw"
      }
    },
    {
      "cell_type": "code",
      "source": [
        "\n",
        "cursor=con.execute('''\n",
        "SELECT * FROM drivers_license\n",
        "WHERE plate_number LIKE '%H42W%'\n",
        "''')\n",
        "for row in cursor:\n",
        "  print(row)"
      ],
      "metadata": {
        "colab": {
          "base_uri": "https://localhost:8080/"
        },
        "id": "P57d4SDmymGs",
        "outputId": "fb5461aa-062d-41bf-a89d-6bcdf87f1ca8"
      },
      "execution_count": 40,
      "outputs": [
        {
          "output_type": "stream",
          "name": "stdout",
          "text": [
            "(183779, 21, 65, 'blue', 'blonde', 'female', 'H42W0X', 'Toyota', 'Prius')\n",
            "(423327, 30, 70, 'brown', 'brown', 'male', '0H42W2', 'Chevrolet', 'Spark LS')\n",
            "(664760, 21, 71, 'black', 'black', 'male', '4H42WR', 'Nissan', 'Altima')\n"
          ]
        }
      ]
    },
    {
      "cell_type": "markdown",
      "source": [
        "**5. CHECK THE PERSONAL DETAILS OF MALES FROM THE ABOVE QUERY**"
      ],
      "metadata": {
        "id": "ocCj-o92IbYu"
      }
    },
    {
      "cell_type": "code",
      "source": [
        "cursor=con.execute('''\n",
        "SELECT * FROM person\n",
        "WHERE license_id= 423327 or license_id=664760\n",
        "\n",
        "''')\n",
        "for row in cursor:\n",
        "  print(row)"
      ],
      "metadata": {
        "colab": {
          "base_uri": "https://localhost:8080/"
        },
        "id": "gyvCKVdn0m-N",
        "outputId": "4dec8ded-d6e3-4315-82ad-170fb0ca10b2"
      },
      "execution_count": 41,
      "outputs": [
        {
          "output_type": "stream",
          "name": "stdout",
          "text": [
            "(51739, 'Tushar Chandra', 664760, 312, 'Phi St', 137882671)\n",
            "(67318, 'Jeremy Bowers', 423327, 530, 'Washington Pl, Apt 3A', 871539279)\n"
          ]
        }
      ]
    },
    {
      "cell_type": "markdown",
      "source": [
        "**6. CHECK THE MEMBERSHIP DETAILS IN THE GYM OF TWO MALES TO FIND SUSPECT**"
      ],
      "metadata": {
        "id": "TTkBsyZ2Iwsh"
      }
    },
    {
      "cell_type": "code",
      "source": [
        "cursor=con.execute('''\n",
        "\n",
        "SELECT * FROM get_fit_now_member\n",
        "WHERE person_id=51739 or person_id= 67318\n",
        "''')\n",
        "for row in cursor:\n",
        "  print(row)"
      ],
      "metadata": {
        "colab": {
          "base_uri": "https://localhost:8080/"
        },
        "id": "qwKG3Kwa2D10",
        "outputId": "3a51e8b2-0931-4477-f3d1-5dad8d91a88e"
      },
      "execution_count": 42,
      "outputs": [
        {
          "output_type": "stream",
          "name": "stdout",
          "text": [
            "('48Z55', 67318, 'Jeremy Bowers', 20160101, 'gold')\n"
          ]
        }
      ]
    },
    {
      "cell_type": "markdown",
      "source": [
        "**7. SUSPECT INTERVIEW**"
      ],
      "metadata": {
        "id": "zJ2CbCKPI7Nn"
      }
    },
    {
      "cell_type": "code",
      "source": [
        "cursor=con.execute('''\n",
        "SELECT * FROM interview\n",
        "WHERE person_id = 67318\n",
        "''')\n",
        "\n",
        "for row in cursor:\n",
        "  print(row)"
      ],
      "metadata": {
        "colab": {
          "base_uri": "https://localhost:8080/"
        },
        "id": "Gl4YmeEm3pc5",
        "outputId": "87a68062-c3dd-4ac9-a81e-df7bf2c14d0d"
      },
      "execution_count": 43,
      "outputs": [
        {
          "output_type": "stream",
          "name": "stdout",
          "text": [
            "(67318, 'I was hired by a woman with a lot of money. I don\\'t know her name but I know she\\'s around 5\\'5\" (65\") or 5\\'7\" (67\"). She has red hair and she drives a Tesla Model S. I know that she attended the SQL Symphony Concert 3 times in December 2017.\\n')\n"
          ]
        }
      ]
    },
    {
      "cell_type": "code",
      "source": [
        "# gender- female\n",
        "# height- 5.5\n",
        "# red hair, tesla model s\n",
        "# attended SQL Symphony Concert 3 times in Dec 2017."
      ],
      "metadata": {
        "id": "bXbjXMDP4gfC"
      },
      "execution_count": 44,
      "outputs": []
    },
    {
      "cell_type": "markdown",
      "source": [
        "**8. CHECK THE CAR DETAILS OF A PERSON BASED ON ABOVE QUERY**"
      ],
      "metadata": {
        "id": "w6wUQNrAJTBq"
      }
    },
    {
      "cell_type": "code",
      "source": [
        "cursor=con.execute('''\n",
        "SELECT *\n",
        "FROM drivers_license\n",
        "WHERE car_make = \"Tesla\" AND car_model = \"Model S\" AND\n",
        "gender = \"female\" AND hair_color = \"red\";\n",
        "''')\n",
        "\n",
        "for row in cursor:\n",
        "  print(row)"
      ],
      "metadata": {
        "colab": {
          "base_uri": "https://localhost:8080/"
        },
        "id": "PHzvTw6R45pa",
        "outputId": "65b074f4-c01f-421e-d959-153adbef785d"
      },
      "execution_count": 45,
      "outputs": [
        {
          "output_type": "stream",
          "name": "stdout",
          "text": [
            "(202298, 68, 66, 'green', 'red', 'female', '500123', 'Tesla', 'Model S')\n",
            "(291182, 65, 66, 'blue', 'red', 'female', '08CM64', 'Tesla', 'Model S')\n",
            "(918773, 48, 65, 'black', 'red', 'female', '917UU3', 'Tesla', 'Model S')\n"
          ]
        }
      ]
    },
    {
      "cell_type": "markdown",
      "source": [
        "**9. IDENTIFY OF WOMEN BASED ON SUSPECT INTERVIEW**"
      ],
      "metadata": {
        "id": "TF5ZhC-KJatp"
      }
    },
    {
      "cell_type": "code",
      "source": [
        "\n",
        "cursor=con.execute('''\n",
        "SELECT * FROM person\n",
        "where license_id=918773 or license_id=202298 or license_id=291182\n",
        "''')\n",
        "for row in cursor:\n",
        "  print(row)"
      ],
      "metadata": {
        "colab": {
          "base_uri": "https://localhost:8080/"
        },
        "id": "PIQen3Oz6Zd7",
        "outputId": "81f62a50-c7fa-47e7-f668-dee124c08b6d"
      },
      "execution_count": 46,
      "outputs": [
        {
          "output_type": "stream",
          "name": "stdout",
          "text": [
            "(78881, 'Red Korb', 918773, 107, 'Camerata Dr', 961388910)\n",
            "(90700, 'Regina George', 291182, 332, 'Maple Ave', 337169072)\n",
            "(99716, 'Miranda Priestly', 202298, 1883, 'Golden Ave', 987756388)\n"
          ]
        }
      ]
    },
    {
      "cell_type": "markdown",
      "source": [
        "**10. CHECK THE PERSON_ID AND EVENT DETAILS AS PER SUSPECT INTERVIEW**"
      ],
      "metadata": {
        "id": "9oUCZjf3JqDW"
      }
    },
    {
      "cell_type": "code",
      "source": [
        "cursor=con.execute('''\n",
        "SELECT person_id, count(*), event_name,date\n",
        "FROM facebook_event_checkin\n",
        "GROUP BY person_id\n",
        "having count(*) = 3 AND event_name = \"SQL Symphony Concert\" AND date like \"%201712%\";\n",
        "''')\n",
        "for row in cursor:\n",
        "  print(row)"
      ],
      "metadata": {
        "colab": {
          "base_uri": "https://localhost:8080/"
        },
        "id": "udVsppuD9oe_",
        "outputId": "13246143-4009-46f9-80aa-621a9c50fe35"
      },
      "execution_count": 47,
      "outputs": [
        {
          "output_type": "stream",
          "name": "stdout",
          "text": [
            "(24556, 3, 'SQL Symphony Concert', 20171207)\n",
            "(99716, 3, 'SQL Symphony Concert', 20171206)\n"
          ]
        }
      ]
    },
    {
      "cell_type": "markdown",
      "source": [
        "**11. THE MASTERMIND BEHIND THIS MURDER**"
      ],
      "metadata": {
        "id": "ZygZlzk7KHWP"
      }
    },
    {
      "cell_type": "code",
      "source": [
        "cursor=con.execute('''\n",
        "SELECT * from person\n",
        "where id= 99716\n",
        "''')\n",
        "for row in cursor:\n",
        "  print(row)"
      ],
      "metadata": {
        "colab": {
          "base_uri": "https://localhost:8080/"
        },
        "id": "AC4axE0g-oP7",
        "outputId": "9acbfaa8-2c9b-4925-fccf-bd8cdbd58bf7"
      },
      "execution_count": 48,
      "outputs": [
        {
          "output_type": "stream",
          "name": "stdout",
          "text": [
            "(99716, 'Miranda Priestly', 202298, 1883, 'Golden Ave', 987756388)\n"
          ]
        }
      ]
    }
  ]
}